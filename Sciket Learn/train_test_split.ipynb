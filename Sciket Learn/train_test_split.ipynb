{
 "cells": [
  {
   "cell_type": "code",
   "execution_count": 1,
   "id": "3f8eef41",
   "metadata": {},
   "outputs": [],
   "source": [
    "import pandas as pd\n",
    "import numpy as np\n",
    "import matplotlib as mlp\n",
    "import matplotlib.pyplot as plt"
   ]
  },
  {
   "cell_type": "markdown",
   "id": "63c86e51",
   "metadata": {},
   "source": [
    "<img src = \"https://encrypted-tbn0.gstatic.com/images?q=tbn:ANd9GcQc4wbsjGqxXgKaaCV79twBaQRhUHkXGURGMg&usqp=CAU\" width = 400px, height = 400px >"
   ]
  },
  {
   "cell_type": "code",
   "execution_count": 2,
   "id": "f500d1cc",
   "metadata": {},
   "outputs": [
    {
     "data": {
      "text/plain": [
       "{'Input': [1, 2, 3, 4, 5, 6, 7, 8, 9, 10],\n",
       " 'Output': [2, 4, 6, 8, 10, 12, 14, 16, 18, 20]}"
      ]
     },
     "execution_count": 2,
     "metadata": {},
     "output_type": "execute_result"
    }
   ],
   "source": [
    "data = {\n",
    "    'Input': list(np.arange(1,11)),\n",
    "    'Output':list(np.arange(2,21 , step = 2))\n",
    "}\n",
    "data"
   ]
  },
  {
   "cell_type": "code",
   "execution_count": 3,
   "id": "41ad9729",
   "metadata": {},
   "outputs": [
    {
     "data": {
      "text/html": [
       "<div>\n",
       "<style scoped>\n",
       "    .dataframe tbody tr th:only-of-type {\n",
       "        vertical-align: middle;\n",
       "    }\n",
       "\n",
       "    .dataframe tbody tr th {\n",
       "        vertical-align: top;\n",
       "    }\n",
       "\n",
       "    .dataframe thead th {\n",
       "        text-align: right;\n",
       "    }\n",
       "</style>\n",
       "<table border=\"1\" class=\"dataframe\">\n",
       "  <thead>\n",
       "    <tr style=\"text-align: right;\">\n",
       "      <th></th>\n",
       "      <th>Input</th>\n",
       "      <th>Output</th>\n",
       "    </tr>\n",
       "  </thead>\n",
       "  <tbody>\n",
       "    <tr>\n",
       "      <th>0</th>\n",
       "      <td>1</td>\n",
       "      <td>2</td>\n",
       "    </tr>\n",
       "    <tr>\n",
       "      <th>1</th>\n",
       "      <td>2</td>\n",
       "      <td>4</td>\n",
       "    </tr>\n",
       "    <tr>\n",
       "      <th>2</th>\n",
       "      <td>3</td>\n",
       "      <td>6</td>\n",
       "    </tr>\n",
       "    <tr>\n",
       "      <th>3</th>\n",
       "      <td>4</td>\n",
       "      <td>8</td>\n",
       "    </tr>\n",
       "    <tr>\n",
       "      <th>4</th>\n",
       "      <td>5</td>\n",
       "      <td>10</td>\n",
       "    </tr>\n",
       "    <tr>\n",
       "      <th>5</th>\n",
       "      <td>6</td>\n",
       "      <td>12</td>\n",
       "    </tr>\n",
       "    <tr>\n",
       "      <th>6</th>\n",
       "      <td>7</td>\n",
       "      <td>14</td>\n",
       "    </tr>\n",
       "    <tr>\n",
       "      <th>7</th>\n",
       "      <td>8</td>\n",
       "      <td>16</td>\n",
       "    </tr>\n",
       "    <tr>\n",
       "      <th>8</th>\n",
       "      <td>9</td>\n",
       "      <td>18</td>\n",
       "    </tr>\n",
       "    <tr>\n",
       "      <th>9</th>\n",
       "      <td>10</td>\n",
       "      <td>20</td>\n",
       "    </tr>\n",
       "  </tbody>\n",
       "</table>\n",
       "</div>"
      ],
      "text/plain": [
       "   Input  Output\n",
       "0      1       2\n",
       "1      2       4\n",
       "2      3       6\n",
       "3      4       8\n",
       "4      5      10\n",
       "5      6      12\n",
       "6      7      14\n",
       "7      8      16\n",
       "8      9      18\n",
       "9     10      20"
      ]
     },
     "execution_count": 3,
     "metadata": {},
     "output_type": "execute_result"
    }
   ],
   "source": [
    "data = pd.DataFrame(data)\n",
    "data"
   ]
  },
  {
   "cell_type": "code",
   "execution_count": 4,
   "id": "4725b109",
   "metadata": {},
   "outputs": [
    {
     "name": "stdout",
     "output_type": "stream",
     "text": [
      "[ 1  2  3  4  5  6  7  8  9 10]\n",
      "[ 2  4  6  8 10 12 14 16 18 20]\n"
     ]
    }
   ],
   "source": [
    "X,Y = data.Input.values , data.Output.values\n",
    "print(X)\n",
    "print(Y)      "
   ]
  },
  {
   "cell_type": "code",
   "execution_count": 5,
   "id": "158360ad",
   "metadata": {},
   "outputs": [
    {
     "name": "stdout",
     "output_type": "stream",
     "text": [
      "Index of Training ratio :  8\n"
     ]
    }
   ],
   "source": [
    "trainingratio = 80\n",
    "print('Index of Training ratio : ',int(len(X)*trainingratio/100))"
   ]
  },
  {
   "cell_type": "code",
   "execution_count": 6,
   "id": "c2c838ad",
   "metadata": {},
   "outputs": [
    {
     "name": "stdout",
     "output_type": "stream",
     "text": [
      "Training of X [1, 2, 3, 4, 5, 6, 7, 8]\n",
      "Trainig og Y [2, 4, 6, 8, 10, 12, 14, 16]\n",
      "\n",
      "\n",
      "Testing of X [9, 10]\n",
      "Testing of Y [18, 20]\n"
     ]
    }
   ],
   "source": [
    "# 80% data for training of X and Y\n",
    "xtrain = X[:int(len(X)*80/100)]\n",
    "ytrain = Y[:int(len(Y)*80/100)]\n",
    "\n",
    "# 20% data for testing of X and Y\n",
    "xtest = X[int(len(X)*80/100):]\n",
    "ytest = Y[int(len(Y)*80/100):]\n",
    "\n",
    "print('Training of X',list(xtrain))\n",
    "print('Trainig og Y' , list(ytrain))\n",
    "print('\\n')\n",
    "print('Testing of X', list(xtest))\n",
    "print('Testing of Y' , list(ytest))"
   ]
  },
  {
   "cell_type": "markdown",
   "id": "13049a0a",
   "metadata": {},
   "source": [
    "# Train and test data distribution with sciketlearn"
   ]
  },
  {
   "cell_type": "code",
   "execution_count": 7,
   "id": "3d3c93e1",
   "metadata": {},
   "outputs": [
    {
     "data": {
      "text/html": [
       "<div>\n",
       "<style scoped>\n",
       "    .dataframe tbody tr th:only-of-type {\n",
       "        vertical-align: middle;\n",
       "    }\n",
       "\n",
       "    .dataframe tbody tr th {\n",
       "        vertical-align: top;\n",
       "    }\n",
       "\n",
       "    .dataframe thead th {\n",
       "        text-align: right;\n",
       "    }\n",
       "</style>\n",
       "<table border=\"1\" class=\"dataframe\">\n",
       "  <thead>\n",
       "    <tr style=\"text-align: right;\">\n",
       "      <th></th>\n",
       "      <th>Input</th>\n",
       "      <th>Output</th>\n",
       "    </tr>\n",
       "  </thead>\n",
       "  <tbody>\n",
       "    <tr>\n",
       "      <th>0</th>\n",
       "      <td>1</td>\n",
       "      <td>2</td>\n",
       "    </tr>\n",
       "    <tr>\n",
       "      <th>1</th>\n",
       "      <td>2</td>\n",
       "      <td>4</td>\n",
       "    </tr>\n",
       "    <tr>\n",
       "      <th>2</th>\n",
       "      <td>3</td>\n",
       "      <td>6</td>\n",
       "    </tr>\n",
       "    <tr>\n",
       "      <th>3</th>\n",
       "      <td>4</td>\n",
       "      <td>8</td>\n",
       "    </tr>\n",
       "    <tr>\n",
       "      <th>4</th>\n",
       "      <td>5</td>\n",
       "      <td>10</td>\n",
       "    </tr>\n",
       "  </tbody>\n",
       "</table>\n",
       "</div>"
      ],
      "text/plain": [
       "   Input  Output\n",
       "0      1       2\n",
       "1      2       4\n",
       "2      3       6\n",
       "3      4       8\n",
       "4      5      10"
      ]
     },
     "execution_count": 7,
     "metadata": {},
     "output_type": "execute_result"
    }
   ],
   "source": [
    "data.head()"
   ]
  },
  {
   "cell_type": "code",
   "execution_count": 8,
   "id": "60e09dd7",
   "metadata": {},
   "outputs": [
    {
     "data": {
      "text/plain": [
       "array([ 1,  2,  3,  4,  5,  6,  7,  8,  9, 10])"
      ]
     },
     "metadata": {},
     "output_type": "display_data"
    },
    {
     "data": {
      "text/plain": [
       "array([ 2,  4,  6,  8, 10, 12, 14, 16, 18, 20])"
      ]
     },
     "metadata": {},
     "output_type": "display_data"
    }
   ],
   "source": [
    "x = data.Input.values\n",
    "display(x)\n",
    "y = data.Output.values\n",
    "display(y)"
   ]
  },
  {
   "cell_type": "markdown",
   "id": "fa641009",
   "metadata": {},
   "source": [
    "## Train test split"
   ]
  },
  {
   "cell_type": "code",
   "execution_count": 9,
   "id": "d8aa00a3",
   "metadata": {},
   "outputs": [],
   "source": [
    "from sklearn.model_selection import train_test_split"
   ]
  },
  {
   "cell_type": "markdown",
   "id": "4501c21b",
   "metadata": {},
   "source": [
    "* shuffled distribution"
   ]
  },
  {
   "cell_type": "code",
   "execution_count": 10,
   "id": "5b3caa51",
   "metadata": {},
   "outputs": [
    {
     "data": {
      "text/plain": [
       "[array([ 3,  5,  2,  1,  4, 10,  7]),\n",
       " array([8, 9, 6]),\n",
       " array([ 6, 10,  4,  2,  8, 20, 14]),\n",
       " array([16, 18, 12])]"
      ]
     },
     "execution_count": 10,
     "metadata": {},
     "output_type": "execute_result"
    }
   ],
   "source": [
    "train_test_split(x,y,test_size = 0.3)"
   ]
  },
  {
   "cell_type": "markdown",
   "id": "8dcd442e",
   "metadata": {},
   "source": [
    "* Unshuffled distribution"
   ]
  },
  {
   "cell_type": "code",
   "execution_count": 11,
   "id": "2ac6c28d",
   "metadata": {},
   "outputs": [
    {
     "data": {
      "text/plain": [
       "[array([1, 2, 3, 4, 5, 6, 7]),\n",
       " array([ 8,  9, 10]),\n",
       " array([ 2,  4,  6,  8, 10, 12, 14]),\n",
       " array([16, 18, 20])]"
      ]
     },
     "execution_count": 11,
     "metadata": {},
     "output_type": "execute_result"
    }
   ],
   "source": [
    "train_test_split(x,y , test_size = 0.3 ,shuffle=False)"
   ]
  },
  {
   "cell_type": "code",
   "execution_count": 12,
   "id": "ad4c9d4a",
   "metadata": {},
   "outputs": [
    {
     "data": {
      "text/plain": [
       "array([5, 6, 1, 9, 2, 3, 4])"
      ]
     },
     "metadata": {},
     "output_type": "display_data"
    },
    {
     "data": {
      "text/plain": [
       "array([ 8, 10,  7])"
      ]
     },
     "metadata": {},
     "output_type": "display_data"
    },
    {
     "data": {
      "text/plain": [
       "array([10, 12,  2, 18,  4,  6,  8])"
      ]
     },
     "metadata": {},
     "output_type": "display_data"
    },
    {
     "data": {
      "text/plain": [
       "array([16, 20, 14])"
      ]
     },
     "metadata": {},
     "output_type": "display_data"
    }
   ],
   "source": [
    "xtrain , xtest , ytrain , ytest = train_test_split(x,y, test_size = 0.3)\n",
    "display(xtrain)\n",
    "display(xtest)\n",
    "display(ytrain)\n",
    "display(ytest)"
   ]
  },
  {
   "cell_type": "code",
   "execution_count": null,
   "id": "762196ab",
   "metadata": {},
   "outputs": [],
   "source": []
  }
 ],
 "metadata": {
  "kernelspec": {
   "display_name": "Python 3 (ipykernel)",
   "language": "python",
   "name": "python3"
  },
  "language_info": {
   "codemirror_mode": {
    "name": "ipython",
    "version": 3
   },
   "file_extension": ".py",
   "mimetype": "text/x-python",
   "name": "python",
   "nbconvert_exporter": "python",
   "pygments_lexer": "ipython3",
   "version": "3.9.13"
  }
 },
 "nbformat": 4,
 "nbformat_minor": 5
}
